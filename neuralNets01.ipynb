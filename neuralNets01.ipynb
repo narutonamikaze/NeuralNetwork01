{
 "cells": [
  {
   "metadata": {},
   "cell_type": "code",
   "outputs": [],
   "execution_count": null,
   "source": [
    "from cffi.backend_ctypes import xrange\n",
    "from random import random\n",
    "import numpy as np"
   ],
   "id": "430ba43c7f892af9"
  },
  {
   "metadata": {},
   "cell_type": "code",
   "outputs": [],
   "execution_count": null,
   "source": [
    "X=np.array([[0,0,1],[0,1,1],[1,0,1],[1,1,1]])\n",
    "y= np.array([[0,1,1,0]]).T\n",
    "syn0= 2*np.random.random((3,4))-1\n",
    "syn1= 2*np*random.random((4,1))-1\n",
    "for j in xrange(60000):\n",
    "    l1= 1/(1+ np.exp(-(np.dot(X,syn0)))\n",
    "    l2= 1/(1+ np.exp(-(np.dot(l1,syn1))))\n",
    "    l2_delta = (y - l2)*(l2*(1-l2))\n",
    "    l1_delta = l2_delta.dot(syn1.T) * (l1 * (1-l1))\n",
    "    syn1 += l1.T.dot(l2_delta)\n",
    "    syn0 += X.T.dot(l1_delta)"
   ],
   "id": "5ed75de78ab478a3"
  },
  {
   "metadata": {},
   "cell_type": "code",
   "outputs": [],
   "execution_count": null,
   "source": [
    "import numpy as np\n",
    "def nonlin(x,deriv=False):\n",
    "    if(deriv==True):\n",
    "      return x*(1-x)\n",
    "    return 1/(1+np.exp(-x))\n",
    "X = np.array([  [0,0,1],\n",
    "                [0,1,1],\n",
    "                \n",
    "                [1,0,1],\n",
    "                \n",
    "                [1,1,1] ])\n",
    "y = np.array([[0,0,1,1]]).T\n",
    "np.random.seed(1)\n",
    "\n",
    "syn0 = 2*np.random.random((3,1)) - 1\n",
    "\n",
    "for iter in xrange(10000):\n",
    "    l0 = X\n",
    "    l1 = nonlin(np.dot(l0,syn0))\n",
    "    l1_error = y - l1\n",
    "    l1_delta = l1_error * nonlin(l1,True)\n",
    "    syn0 += np.dot(l0.T,l1_delta)\n",
    "    \n",
    "print l1"
   ],
   "id": "dcb50231ba96d7e7"
  },
  {
   "metadata": {},
   "cell_type": "code",
   "outputs": [],
   "execution_count": null,
   "source": [
    "import numpy as np\n",
    "\n",
    "def nonlin(x,deriv=False):\n",
    "\n",
    "    if(deriv==True):\n",
    "        return x*(1-x)\n",
    "    return 1/(1+np.exp(-x))\n",
    "\n",
    "X = np.array([[0,0,1],\n",
    "            [0,1,1],\n",
    "            [1,0,1],\n",
    "              [1,1,1]])\n",
    "\n",
    "y = np.array([[0],[1],[1],[0]])\n",
    "np.random.seed(1)\n",
    "syn0 = 2*np.random.random((3,4)) - 1\n",
    "syn1 = 2*np.random.random((4,1)) - 1\n",
    "for j in xrange(60000):\n",
    "    l0 = X\n",
    "    l1 = nonlin(np.dot(l0,syn0))\n",
    "    l2 = nonlin(np.dot(l1,syn1))\n",
    "    l2_error = y - l2\n",
    "    if (j% 10000) == 0:\n",
    "        print \"Error:\" + str(np.mean(np.abs(l2_error)))\n",
    "    l2_delta = l2_error*nonlin(l2,deriv=True)\n",
    "    l1_error = l2_delta.dot(syn1.T)\n",
    "    l1_delta = l1_error * nonlin(l1,deriv=True)\n",
    "    syn1 += l1.T.dot(l2_delta)\n",
    "    syn0 += l0.T.dot(l1_delta)"
   ],
   "id": "d35acd504d591b64"
  }
 ],
 "metadata": {
  "kernelspec": {
   "display_name": "Python 3",
   "language": "python",
   "name": "python3"
  },
  "language_info": {
   "codemirror_mode": {
    "name": "ipython",
    "version": 2
   },
   "file_extension": ".py",
   "mimetype": "text/x-python",
   "name": "python",
   "nbconvert_exporter": "python",
   "pygments_lexer": "ipython2",
   "version": "2.7.6"
  }
 },
 "nbformat": 4,
 "nbformat_minor": 5
}
